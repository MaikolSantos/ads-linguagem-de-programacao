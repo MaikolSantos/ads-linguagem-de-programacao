{
  "nbformat": 4,
  "nbformat_minor": 0,
  "metadata": {
    "colab": {
      "name": "atividade-forum.ipynb",
      "provenance": [],
      "authorship_tag": "ABX9TyPbfaEHtx9rHinPvJTRuv2W",
      "include_colab_link": true
    },
    "kernelspec": {
      "name": "python3",
      "display_name": "Python 3"
    }
  },
  "cells": [
    {
      "cell_type": "markdown",
      "metadata": {
        "id": "view-in-github",
        "colab_type": "text"
      },
      "source": [
        "<a href=\"https://colab.research.google.com/github/MaikolSantos/ads-linguagem-de-programacao/blob/master/atividade_forum.ipynb\" target=\"_parent\"><img src=\"https://colab.research.google.com/assets/colab-badge.svg\" alt=\"Open In Colab\"/></a>"
      ]
    },
    {
      "cell_type": "markdown",
      "metadata": {
        "id": "9N0QyZO2lcBj",
        "colab_type": "text"
      },
      "source": [
        "> **TENTANDO CRIAR LISTA COM FOR**\n",
        "\n",
        "Obs: Atividade proposta pela disciplia"
      ]
    },
    {
      "cell_type": "code",
      "metadata": {
        "id": "-r22GyD3lypD",
        "colab_type": "code",
        "colab": {
          "base_uri": "https://localhost:8080/",
          "height": 235
        },
        "outputId": "d2c953c1-ee89-4f18-bf26-d0ff99d18f54"
      },
      "source": [
        "from time import sleep\n",
        "\n",
        "def media(x, y):\n",
        "    media = sum(x) / len(y)\n",
        "    return media\n",
        "\n",
        "notas = int(input('\\033[33m Quantas notas você deseja cadastrar: \\033[m'))\n",
        "\n",
        "nota = []\n",
        "\n",
        "for i in range(notas):\n",
        "    nota.append(float(input('\\033[34m Digite sua {}ª nota: \\033[m'.format(i + 1))))\n",
        "\n",
        "op = input(\"\"\"\\n \\033[33mPara saber sua média pressione ENTER \n",
        " Para as notas cadastradas digite 'notas' e pressione ENTER \\033[m\"\"\")\n",
        "\n",
        "print('\\n \\033[31mCalculando...\\033[m \\n ')\n",
        "sleep(2)\n",
        "\n",
        "if not op:\n",
        "    print('\\033[1;034m A média é {}\\033[m'.format(media(nota, nota)))\n",
        "else:\n",
        "    print('\\033[1;34m Suas notas são {}\\033[m'.format(nota))"
      ],
      "execution_count": 2,
      "outputs": [
        {
          "output_type": "stream",
          "text": [
            "\u001b[33m Quantas notas você deseja cadastrar: \u001b[m5\n",
            "\u001b[34m Digite sua 1ª nota: \u001b[m1.5\n",
            "\u001b[34m Digite sua 2ª nota: \u001b[m6\n",
            "\u001b[34m Digite sua 3ª nota: \u001b[m7\n",
            "\u001b[34m Digite sua 4ª nota: \u001b[m8\n",
            "\u001b[34m Digite sua 5ª nota: \u001b[m9.5\n",
            "\n",
            " \u001b[33mPara saber sua média pressione ENTER \n",
            " Para as notas cadastradas digite 'notas' e pressione ENTER \u001b[m\n",
            "\n",
            " \u001b[31mCalculando...\u001b[m \n",
            " \n",
            "\u001b[1;034m A média é 6.4\u001b[m\n"
          ],
          "name": "stdout"
        }
      ]
    }
  ]
}