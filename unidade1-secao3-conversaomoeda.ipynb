{
  "nbformat": 4,
  "nbformat_minor": 0,
  "metadata": {
    "colab": {
      "name": "u1-s3-conversaomoeda.ipynb",
      "provenance": [],
      "authorship_tag": "ABX9TyOpvxVjnmK8Iae0m4GT0kzh",
      "include_colab_link": true
    },
    "kernelspec": {
      "name": "python3",
      "display_name": "Python 3"
    }
  },
  "cells": [
    {
      "cell_type": "markdown",
      "metadata": {
        "id": "view-in-github",
        "colab_type": "text"
      },
      "source": [
        "<a href=\"https://colab.research.google.com/github/MaikolSantos/ads-linguagem-de-programacao/blob/master/u1_s3_conversaomoeda.ipynb\" target=\"_parent\"><img src=\"https://colab.research.google.com/assets/colab-badge.svg\" alt=\"Open In Colab\"/></a>"
      ]
    },
    {
      "cell_type": "code",
      "metadata": {
        "id": "DZb2pnfcVVH9",
        "outputId": "7d495b16-ee54-40fc-94fa-5d301d143c04",
        "colab": {
          "base_uri": "https://localhost:8080/",
          "height": 319
        }
      },
      "source": [
        "def cambio(valor, qtd, moeda):\n",
        "  total = valor * qtd\n",
        "  total *= moeda\n",
        "  return total\n",
        "\n",
        "def desc (total, desc):\n",
        "  valortotal = total * desc\n",
        "  return valortotal\n",
        "\n",
        "def acres(valor, a):\n",
        "  valortotal = valor * a\n",
        "  return valortotal\n",
        "\n",
        "moeda = int(input(\"\"\"MOEDAS\n",
        "[ 1 ] Dolar \n",
        "[ 2 ] Euro \n",
        "[ 3 ] Real\n",
        "Escolha a moeda: \"\"\"))\n",
        "\n",
        "if moeda == 1:\n",
        "  valor = float(input('Digite o valor do produto: '))\n",
        "  qtd = int(input('Digite a quantidade do produto: '))\n",
        "  moeda = 5.00\n",
        "  valortotal = cambio(valor, qtd, moeda)\n",
        "elif moeda == 2:\n",
        "  valor = float(input('Digite o valor do produto: '))\n",
        "  qtd = int(input('Digite a quantidade do produto: '))\n",
        "  moeda = 7.00\n",
        "  valortotal = cambio(valor, qtd, moeda)\n",
        "elif moeda == 3:\n",
        "  valor = float(input('Digite o valor do produto: '))\n",
        "  qtd = int(input('Digite a quantidade do produto: '))\n",
        "  moeda = 1.00\n",
        "  valortotal = cambio(valor, qtd, moeda)\n",
        "else:\n",
        "  print('Esolha inválida')\n",
        "  valortotal = valortotal\n",
        "\n",
        "print(f'\\nO valor total da compra é: R$ {valortotal:.2f}')\n",
        "\n",
        "pag = int(input(\"\"\"\\nPAGAMENTO\n",
        "[ 1 ] À Vista no Dinheiro (desconto 10%)\n",
        "[ 2 ] À vista no Cartão (desconto 5%)\n",
        "[ 3 ] A Prazo 2x (Valor Total)\n",
        "[ 4 ] A Prazo 3x ou mais (Juros de 3%)\n",
        "Selecione a forma de pagamento: \"\"\"))\n",
        "\n",
        "if pag == 1:\n",
        "  d = 0.9\n",
        "  valortotal = desc(valortotal, d)\n",
        "elif pag == 2:\n",
        "  d = 0.95\n",
        "  valortotal = desc(valortotal, d)\n",
        "elif pag == 3:\n",
        "  valortotal = valortotal\n",
        "elif pag == 4:\n",
        "  a = 1.03\n",
        "  valortotal = acres(valortotal, a)\n",
        "else:\n",
        "  print('\\nOpção inválida')\n",
        "\n",
        "print(f'\\nPagamento final será de R$ {valortotal:.2f}')\n",
        "\n"
      ],
      "execution_count": 11,
      "outputs": [
        {
          "output_type": "stream",
          "text": [
            "MOEDAS\n",
            "[ 1 ] Dolar \n",
            "[ 2 ] Euro \n",
            "[ 3 ] Real\n",
            "Escolha a moeda: 2\n",
            "Digite o valor do produto: 10\n",
            "Digite a quantidade do produto: 2\n",
            "\n",
            "O valor total da compra é: R$ 140.00\n",
            "\n",
            "PAGAMENTO\n",
            "[ 1 ] À Vista no Dinheiro (desconto 10%)\n",
            "[ 2 ] À vista no Cartão (desconto 5%)\n",
            "[ 3 ] A Prazo 2x (Valor Total)\n",
            "[ 4 ] A Prazo 3x ou mais (Juros de 3%)\n",
            "Selecione a forma de pagamento: 2\n",
            "\n",
            "Pagamento final será de R$ 133.00\n"
          ],
          "name": "stdout"
        }
      ]
    }
  ]
}
