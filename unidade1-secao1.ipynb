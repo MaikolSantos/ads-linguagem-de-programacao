{
  "nbformat": 4,
  "nbformat_minor": 0,
  "metadata": {
    "colab": {
      "name": "unidade1Secao1.ipynb",
      "provenance": [],
      "collapsed_sections": [],
      "authorship_tag": "ABX9TyNLVVLirq3y4so+pkU1fA0F",
      "include_colab_link": true
    },
    "kernelspec": {
      "name": "python3",
      "display_name": "Python 3"
    }
  },
  "cells": [
    {
      "cell_type": "markdown",
      "metadata": {
        "id": "view-in-github",
        "colab_type": "text"
      },
      "source": [
        "<a href=\"https://colab.research.google.com/github/MaikolSantos/ads-linguagem-de-programacao/blob/master/unidade1Secao1.ipynb\" target=\"_parent\"><img src=\"https://colab.research.google.com/assets/colab-badge.svg\" alt=\"Open In Colab\"/></a>"
      ]
    },
    {
      "cell_type": "markdown",
      "metadata": {
        "id": "5BoGUDGczmwA",
        "colab_type": "text"
      },
      "source": [
        "# Iniciando a Dicisplina **\"Linguagem de Programação\"** com **Python**"
      ]
    },
    {
      "cell_type": "code",
      "metadata": {
        "id": "J-Y5MI67teyJ",
        "colab_type": "code",
        "colab": {}
      },
      "source": [
        "x = 10 #integer \n",
        "nome = 'aluno' #string\n",
        "nota = 8.75 #float\n",
        "fez_inscricao = True #Boolean"
      ],
      "execution_count": 1,
      "outputs": []
    },
    {
      "cell_type": "markdown",
      "metadata": {
        "id": "Yq2U-qT8uUbP",
        "colab_type": "text"
      },
      "source": [
        "Para imprimir saber o tipo de uma funcão **type()**"
      ]
    },
    {
      "cell_type": "code",
      "metadata": {
        "id": "ZS6cZ4ejuhEt",
        "colab_type": "code",
        "colab": {
          "base_uri": "https://localhost:8080/",
          "height": 84
        },
        "outputId": "50f4ce48-abbc-45f3-a1bb-194c35393f73"
      },
      "source": [
        "print(type(x))\n",
        "print(type(nome))\n",
        "print(type(nota))\n",
        "print(type(fez_inscricao))"
      ],
      "execution_count": 2,
      "outputs": [
        {
          "output_type": "stream",
          "text": [
            "<class 'int'>\n",
            "<class 'str'>\n",
            "<class 'float'>\n",
            "<class 'bool'>\n"
          ],
          "name": "stdout"
        }
      ]
    },
    {
      "cell_type": "markdown",
      "metadata": {
        "id": "4i2mH2mRv4a7",
        "colab_type": "text"
      },
      "source": [
        "Aprimorando nosso **\"Hello Word\"**"
      ]
    },
    {
      "cell_type": "code",
      "metadata": {
        "id": "N5ghVsD9v9rC",
        "colab_type": "code",
        "colab": {
          "base_uri": "https://localhost:8080/",
          "height": 50
        },
        "outputId": "82b126f9-74e5-4140-e1c4-dfbe4634f345"
      },
      "source": [
        "nome = str(input('Digite seu nome: '))\n",
        "print(f'Olá, {nome}! Bem-vindo à disciplina de programação. Parabéns pelo seu primeiro \"hello word\"')"
      ],
      "execution_count": 6,
      "outputs": [
        {
          "output_type": "stream",
          "text": [
            "Digite seu nome: maikol\n",
            "Olá, maikol! Bem-vindo à disciplina de programação. Parabéns pelo seu primeiro \"hello word\"\n"
          ],
          "name": "stdout"
        }
      ]
    },
    {
      "cell_type": "markdown",
      "metadata": {
        "id": "fRoOaGMJzZpP",
        "colab_type": "text"
      },
      "source": [
        "Importância da ordem de **Precedência** das operações matemáticas nos códigos"
      ]
    },
    {
      "cell_type": "code",
      "metadata": {
        "id": "fwlLuJcmzY4w",
        "colab_type": "code",
        "colab": {
          "base_uri": "https://localhost:8080/",
          "height": 84
        },
        "outputId": "de977bc2-b046-4dd0-90c6-752f7803a7f9"
      },
      "source": [
        "# antes de correr os códigos tente dar a solução das operações de cabeça\n",
        "\n",
        "op1 = 2 + 3 * 5\n",
        "op2 = (2 + 3) * 5\n",
        "op3 = 4 / 2 ** 2\n",
        "op4 = 13 % 3 + 4\n",
        "\n",
        "print(f'Resultado da 1ª operação: {op1}')\n",
        "print(f'Resultado da 2ª operação: {op2}')\n",
        "print(f'Resultado da 3ª operação: {op3}')\n",
        "print(f'Resultado da 4ª operação: {op4}')"
      ],
      "execution_count": 8,
      "outputs": [
        {
          "output_type": "stream",
          "text": [
            "Resultado da 1ª operação: 17\n",
            "Resultado da 2ª operação: 25\n",
            "Resultado da 3ª operação: 1.0\n",
            "Resultado da 4ª operação: 5\n"
          ],
          "name": "stdout"
        }
      ]
    },
    {
      "cell_type": "markdown",
      "metadata": {
        "id": "o9UHGA2r3NME",
        "colab_type": "text"
      },
      "source": [
        "Vamos fazer uma equaçãod e segundo grau considerando:\n",
        "\n",
        "*   a = 2\n",
        "*   b = 0.5\n",
        "*   c = 1\n",
        "*   x = o usuário irá digitar\n",
        "\n",
        "A resolução da equação retornará a o resultado de y.\n"
      ]
    },
    {
      "cell_type": "code",
      "metadata": {
        "id": "LtQRfie733ay",
        "colab_type": "code",
        "colab": {
          "base_uri": "https://localhost:8080/",
          "height": 67
        },
        "outputId": "b8688ca6-cbd3-48e8-aa73-8ad20f1bafb7"
      },
      "source": [
        "a = 2\n",
        "b = 0.5\n",
        "c = 1\n",
        "x = float(input('Digite o valor de x: '))\n",
        "\n",
        "y = (a * x ** 2) + (b * 2) + c\n",
        "\n",
        "print(f'\\n O resultado de y para {x} é: {y}')"
      ],
      "execution_count": 11,
      "outputs": [
        {
          "output_type": "stream",
          "text": [
            "Digite o valor de x: 3\n",
            "\n",
            " O resultado de y para 3.0 é: 20.0\n"
          ],
          "name": "stdout"
        }
      ]
    },
    {
      "cell_type": "markdown",
      "metadata": {
        "id": "Zr_H7pTc5T3i",
        "colab_type": "text"
      },
      "source": [
        "Fonte:\n",
        "\n",
        "Leitura do matarial da faculdade: http://cm-kls-content.s3.amazonaws.com/202002/DISCIPLINAS_EAD/LINGUAGEM_DE_PROGRAMACAO/LIVRO_DIGITAL/U1/S1/npf/index.html"
      ]
    }
  ]
}
