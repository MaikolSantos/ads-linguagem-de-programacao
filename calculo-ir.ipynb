{
  "nbformat": 4,
  "nbformat_minor": 0,
  "metadata": {
    "colab": {
      "name": "calculoIR.ipynb",
      "provenance": [],
      "collapsed_sections": [],
      "authorship_tag": "ABX9TyNn0QmC+4PKoxV1M0APgWBk",
      "include_colab_link": true
    },
    "kernelspec": {
      "name": "python3",
      "display_name": "Python 3"
    }
  },
  "cells": [
    {
      "cell_type": "markdown",
      "metadata": {
        "id": "view-in-github",
        "colab_type": "text"
      },
      "source": [
        "<a href=\"https://colab.research.google.com/github/MaikolSantos/ads-linguagem-de-programacao/blob/master/calculoIR.ipynb\" target=\"_parent\"><img src=\"https://colab.research.google.com/assets/colab-badge.svg\" alt=\"Open In Colab\"/></a>"
      ]
    },
    {
      "cell_type": "code",
      "metadata": {
        "id": "Bw8fPF7QcX7h",
        "colab_type": "code",
        "colab": {
          "base_uri": "https://localhost:8080/",
          "height": 101
        },
        "outputId": "538f3ea0-7262-4722-c01d-1826bbbd112d"
      },
      "source": [
        "print('{:=^50}'.format(' Calculando Imposto de Renda '))\n",
        "\n",
        "s = float(input('\\n Digite seu salário: R$ ' ))\n",
        "\n",
        "if s <= 1903.98:\n",
        "  print('\\n Você é isento do Imposto de Renda')\n",
        "elif s >= 1903.99 and s <= 2826.65:\n",
        "  print(f'\\n O Imposto de Renda a ser deduzido do seu salário é R$ {round((s * 0.075) - 142.80, 2)}')\n",
        "elif s >= 2826.66 and s <= 3751.05:\n",
        "  print(f'\\n O Imposto de renda a ser deduzido do seu salário é R$ {round((s * 0.15) - 354.80, 2)}')\n",
        "elif s >= 3751.06 and s <= 4664.68:\n",
        "  print(f'\\n O imposto de renda a ser deduzido do seu salário é R$ {round((s * 0.225) - 636.13, 2)}')\n",
        "elif s > 4664.68:\n",
        "  print(f'\\n O Imposto de renda a ser deduzido do seu salário é R$ {round((s * 0.275) - 869.36, 2)}')"
      ],
      "execution_count": 31,
      "outputs": [
        {
          "output_type": "stream",
          "text": [
            "========== Calculando Imposto de Renda ===========\n",
            "\n",
            " Digite seu salário: R$ 5000\n",
            "\n",
            " O Imposto de renda a ser deduzido do seu salário é R$ 505.64\n"
          ],
          "name": "stdout"
        }
      ]
    }
  ]
}
